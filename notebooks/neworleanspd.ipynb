{
 "cells": [
  {
   "cell_type": "markdown",
   "id": "f073916f-1e79-4a70-b3bd-ab4ccf30876c",
   "metadata": {},
   "source": [
    "# Analysis of Disparate Treatment of Demographic Groups by the New Orleans Police Force in 2022\n",
    "-----------\n",
    "Hayden Outlaw & Mikey Sison - Spring 2023 - Tulane University\n"
   ]
  },
  {
   "cell_type": "code",
   "execution_count": null,
   "id": "5cf6503a-5098-44f5-9e80-9d18045e502c",
   "metadata": {},
   "outputs": [],
   "source": []
  }
 ],
 "metadata": {
  "kernelspec": {
   "display_name": "Python 3 (ipykernel)",
   "language": "python",
   "name": "python3"
  },
  "language_info": {
   "codemirror_mode": {
    "name": "ipython",
    "version": 3
   },
   "file_extension": ".py",
   "mimetype": "text/x-python",
   "name": "python",
   "nbconvert_exporter": "python",
   "pygments_lexer": "ipython3",
   "version": "3.8.13"
  }
 },
 "nbformat": 4,
 "nbformat_minor": 5
}
