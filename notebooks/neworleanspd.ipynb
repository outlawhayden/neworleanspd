{
 "cells": [
  {
   "cell_type": "markdown",
   "id": "f073916f-1e79-4a70-b3bd-ab4ccf30876c",
   "metadata": {
    "tags": []
   },
   "source": [
    "# Analysis of Disparate Treatment of Demographic Groups by the New Orleans Police Force in 2022\n",
    "-----------\n",
    "Hayden Outlaw & Mikey Sison - Spring 2023 - Tulane University\n"
   ]
  },
  {
   "cell_type": "markdown",
   "id": "7970cf03-131d-4c7f-b556-b5b61f68db84",
   "metadata": {},
   "source": [
    "## Introduction\n",
    "------\n",
    "### TODO"
   ]
  },
  {
   "cell_type": "markdown",
   "id": "f6e5f168-b536-4862-8129-1147c806b967",
   "metadata": {
    "jp-MarkdownHeadingCollapsed": true,
    "tags": []
   },
   "source": [
    "## Loading Libraries"
   ]
  },
  {
   "cell_type": "code",
   "execution_count": 17,
   "id": "5cf6503a-5098-44f5-9e80-9d18045e502c",
   "metadata": {},
   "outputs": [],
   "source": [
    "import pandas as pd\n",
    "import numpy as np\n",
    "import os\n",
    "import sklearn as sk\n",
    "import time\n",
    "import seaborn as sns\n",
    "\n",
    "# force pandas to display all columns globally\n",
    "pd.set_option('display.max_columns', None)"
   ]
  },
  {
   "cell_type": "markdown",
   "id": "3501616f-f5f7-416f-91d8-cf0b246143fa",
   "metadata": {
    "tags": []
   },
   "source": [
    "## Loading Data\n",
    "----\n",
    "The Field Interview Card data is sourced from [data.nola.gov](https://data.nola.gov/Public-Safety-and-Preparedness/Stop-and-Search-Field-Interviews-/kitu-f4uy), which is an online third-party resource for data and metrics about the city of New Orleans. This data was originally published by the New Orleans Police Department, and was most recently loaded here on **February 24th, 2023**. This data contains a unique primary key, an NOPD reference item, the district and zone of the interview, the officer's district assignment, a description of the stop, the actions taken, information about vehicles involved if the interview was the result of an incident involving vehicles, information about the subject, and location. Note that the locations involved have been anonymized - the data only contains fidelity to a zip code and a block, and is maintained that way out of privacy concerns. Interview data was also available dating back to at least 1993, albeit sparsely, but this project only focuses on interviews conducted on or after January 1st, 2022.\n",
    "\n",
    "\n"
   ]
  },
  {
   "cell_type": "code",
   "execution_count": 16,
   "id": "bfcbdb08-9116-46c3-bbf2-14f799c4d7c8",
   "metadata": {},
   "outputs": [
    {
     "data": {
      "text/html": [
       "<div>\n",
       "<style scoped>\n",
       "    .dataframe tbody tr th:only-of-type {\n",
       "        vertical-align: middle;\n",
       "    }\n",
       "\n",
       "    .dataframe tbody tr th {\n",
       "        vertical-align: top;\n",
       "    }\n",
       "\n",
       "    .dataframe thead th {\n",
       "        text-align: right;\n",
       "    }\n",
       "</style>\n",
       "<table border=\"1\" class=\"dataframe\">\n",
       "  <thead>\n",
       "    <tr style=\"text-align: right;\">\n",
       "      <th></th>\n",
       "      <th>FieldInterviewID</th>\n",
       "      <th>NOPD_Item</th>\n",
       "      <th>EventDate</th>\n",
       "      <th>District</th>\n",
       "      <th>Zone</th>\n",
       "      <th>OfficerAssignment</th>\n",
       "      <th>StopDescription</th>\n",
       "      <th>ActionsTaken</th>\n",
       "      <th>VehicleYear</th>\n",
       "      <th>VehicleMake</th>\n",
       "      <th>VehicleModel</th>\n",
       "      <th>VehicleStyle</th>\n",
       "      <th>VehicleColor</th>\n",
       "      <th>SubjectID</th>\n",
       "      <th>SubjectRace</th>\n",
       "      <th>SubjectGender</th>\n",
       "      <th>SubjectAge</th>\n",
       "      <th>SubjectHasPhotoID</th>\n",
       "      <th>SubjectHeight</th>\n",
       "      <th>SubjectWeight</th>\n",
       "      <th>SubjectEyeColor</th>\n",
       "      <th>SubjectHairColor</th>\n",
       "      <th>SubjectDriverLicState</th>\n",
       "      <th>CreatedDateTime</th>\n",
       "      <th>LastModifiedDateTime</th>\n",
       "      <th>Longitude</th>\n",
       "      <th>Latitude</th>\n",
       "      <th>Zip</th>\n",
       "      <th>BlockAddress</th>\n",
       "    </tr>\n",
       "  </thead>\n",
       "  <tbody>\n",
       "    <tr>\n",
       "      <th>0</th>\n",
       "      <td>607431</td>\n",
       "      <td>B2364223</td>\n",
       "      <td>2/23/23 14:26</td>\n",
       "      <td>8</td>\n",
       "      <td>E</td>\n",
       "      <td>8th  District</td>\n",
       "      <td>CALL FOR SERVICE</td>\n",
       "      <td>Stop Results: No action taken;Subject Type: Pe...</td>\n",
       "      <td>NaN</td>\n",
       "      <td>NaN</td>\n",
       "      <td>NaN</td>\n",
       "      <td>NaN</td>\n",
       "      <td>NaN</td>\n",
       "      <td>695359.0</td>\n",
       "      <td>WHITE</td>\n",
       "      <td>MALE</td>\n",
       "      <td>NaN</td>\n",
       "      <td>Yes</td>\n",
       "      <td>74.0</td>\n",
       "      <td>180.0</td>\n",
       "      <td>Brown</td>\n",
       "      <td>Black</td>\n",
       "      <td>LA</td>\n",
       "      <td>2/23/23 15:14</td>\n",
       "      <td>NaN</td>\n",
       "      <td>-90.059982</td>\n",
       "      <td>29.963337</td>\n",
       "      <td>70116.0</td>\n",
       "      <td>Royal St &amp; Esplanade Av</td>\n",
       "    </tr>\n",
       "    <tr>\n",
       "      <th>1</th>\n",
       "      <td>607433</td>\n",
       "      <td>B2383823</td>\n",
       "      <td>2/23/23 14:13</td>\n",
       "      <td>5</td>\n",
       "      <td>Q</td>\n",
       "      <td>5th  District</td>\n",
       "      <td>CALL FOR SERVICE</td>\n",
       "      <td>Stop Results: No action taken;Subject Type: Pe...</td>\n",
       "      <td>NaN</td>\n",
       "      <td>NaN</td>\n",
       "      <td>NaN</td>\n",
       "      <td>NaN</td>\n",
       "      <td>NaN</td>\n",
       "      <td>695361.0</td>\n",
       "      <td>BLACK</td>\n",
       "      <td>FEMALE</td>\n",
       "      <td>NaN</td>\n",
       "      <td>No</td>\n",
       "      <td>68.0</td>\n",
       "      <td>140.0</td>\n",
       "      <td>Brown</td>\n",
       "      <td>Brown</td>\n",
       "      <td>NaN</td>\n",
       "      <td>2/23/23 17:35</td>\n",
       "      <td>NaN</td>\n",
       "      <td>-90.016421</td>\n",
       "      <td>29.966743</td>\n",
       "      <td>70117.0</td>\n",
       "      <td>005XX N Claiborne Av</td>\n",
       "    </tr>\n",
       "    <tr>\n",
       "      <th>2</th>\n",
       "      <td>607430</td>\n",
       "      <td>B2342223</td>\n",
       "      <td>2/23/23 13:02</td>\n",
       "      <td>7</td>\n",
       "      <td>F</td>\n",
       "      <td>7th  District</td>\n",
       "      <td>TRAFFIC VIOLATION</td>\n",
       "      <td>Stop Results: Verbal Warning;Subject Type: Dri...</td>\n",
       "      <td>2003.0</td>\n",
       "      <td>TOYOTA</td>\n",
       "      <td>TACOMA</td>\n",
       "      <td>PICK UP</td>\n",
       "      <td>BEIGE</td>\n",
       "      <td>695358.0</td>\n",
       "      <td>BLACK</td>\n",
       "      <td>FEMALE</td>\n",
       "      <td>NaN</td>\n",
       "      <td>Yes</td>\n",
       "      <td>65.0</td>\n",
       "      <td>110.0</td>\n",
       "      <td>Brown</td>\n",
       "      <td>Black</td>\n",
       "      <td>LA</td>\n",
       "      <td>2/23/23 13:13</td>\n",
       "      <td>NaN</td>\n",
       "      <td>-89.992275</td>\n",
       "      <td>30.023754</td>\n",
       "      <td>NaN</td>\n",
       "      <td>Dwyer Rd &amp; Sandhurst Dr</td>\n",
       "    </tr>\n",
       "  </tbody>\n",
       "</table>\n",
       "</div>"
      ],
      "text/plain": [
       "   FieldInterviewID NOPD_Item      EventDate  District Zone OfficerAssignment  \\\n",
       "0            607431  B2364223  2/23/23 14:26         8    E     8th  District   \n",
       "1            607433  B2383823  2/23/23 14:13         5    Q     5th  District   \n",
       "2            607430  B2342223  2/23/23 13:02         7    F     7th  District   \n",
       "\n",
       "     StopDescription                                       ActionsTaken  \\\n",
       "0   CALL FOR SERVICE  Stop Results: No action taken;Subject Type: Pe...   \n",
       "1   CALL FOR SERVICE  Stop Results: No action taken;Subject Type: Pe...   \n",
       "2  TRAFFIC VIOLATION  Stop Results: Verbal Warning;Subject Type: Dri...   \n",
       "\n",
       "   VehicleYear VehicleMake VehicleModel VehicleStyle VehicleColor  SubjectID  \\\n",
       "0          NaN         NaN          NaN          NaN          NaN   695359.0   \n",
       "1          NaN         NaN          NaN          NaN          NaN   695361.0   \n",
       "2       2003.0      TOYOTA       TACOMA      PICK UP        BEIGE   695358.0   \n",
       "\n",
       "  SubjectRace SubjectGender  SubjectAge SubjectHasPhotoID  SubjectHeight  \\\n",
       "0       WHITE          MALE         NaN               Yes           74.0   \n",
       "1       BLACK        FEMALE         NaN                No           68.0   \n",
       "2       BLACK        FEMALE         NaN               Yes           65.0   \n",
       "\n",
       "   SubjectWeight SubjectEyeColor SubjectHairColor SubjectDriverLicState  \\\n",
       "0          180.0           Brown            Black                    LA   \n",
       "1          140.0           Brown            Brown                   NaN   \n",
       "2          110.0           Brown            Black                    LA   \n",
       "\n",
       "  CreatedDateTime LastModifiedDateTime  Longitude   Latitude      Zip  \\\n",
       "0   2/23/23 15:14                  NaN -90.059982  29.963337  70116.0   \n",
       "1   2/23/23 17:35                  NaN -90.016421  29.966743  70117.0   \n",
       "2   2/23/23 13:13                  NaN -89.992275  30.023754      NaN   \n",
       "\n",
       "              BlockAddress  \n",
       "0  Royal St & Esplanade Av  \n",
       "1     005XX N Claiborne Av  \n",
       "2  Dwyer Rd & Sandhurst Dr  "
      ]
     },
     "execution_count": 16,
     "metadata": {},
     "output_type": "execute_result"
    }
   ],
   "source": [
    "interview_data = pd.read_csv('../data/Interview_Cards_Filtered.csv')\n",
    "interview_data.head(3)"
   ]
  },
  {
   "cell_type": "markdown",
   "id": "9180c6ef-b19c-40a0-990f-99905d2ea537",
   "metadata": {
    "tags": []
   },
   "source": [
    "## Cleaning Data"
   ]
  },
  {
   "cell_type": "markdown",
   "id": "1e2deffa-c49e-49c7-b0ce-2a322204c975",
   "metadata": {},
   "source": [
    "The total size of the dataset is 16500 observations of 29 attributes each. This includes all observations from January 1st, 2022 through the most recent version of the data downloaded."
   ]
  },
  {
   "cell_type": "code",
   "execution_count": 21,
   "id": "b840ca3e-a11e-438c-b309-1416348a03ba",
   "metadata": {},
   "outputs": [
    {
     "data": {
      "text/plain": [
       "(16500, 29)"
      ]
     },
     "execution_count": 21,
     "metadata": {},
     "output_type": "execute_result"
    }
   ],
   "source": [
    "interview_data.shape"
   ]
  },
  {
   "cell_type": "markdown",
   "id": "aca8cc84-9faf-4e6d-8605-e2e85c99e422",
   "metadata": {},
   "source": [
    "These are all the counts of missing data ([numpy NaN objects](https://numpy.org/doc/stable/reference/constants.html)) prseent in the field interview cards data set. Some columns are inherently non-sparse, such as teh primary key `FieldInterviewID` or `NOPD_Item`, as well as the boolean attribute `SubjectHasPhotoID` in which the variable is marked as False unless shown to be otherwise true. Notably, the information about vehicles involved tends to be sparse, but this is most likely accounted for in incidents not involving vehicles at all, and so presents no logical issues. There are various reasons why subject information could be missing, such as officer error, indeterminate attributes (low lighting, incident was too short to collect definitive attributes, etc.,), lack of collection (ID or driver's licence was never needed to be checked), or anonymization out of safety concerns. We do not assert that the sparsity of these attributes is independent of the attributes of the subjects themselves - `SubjectRace` is one of the least sparse attributes in the data set, as well as `SubjectGender`, which can be determined visually as opposed to attributes like `SubjectAge` which requires some official record examination to collect. Therefore, these sparse observations will not be dropped, but will be accounted for separately."
   ]
  },
  {
   "cell_type": "code",
   "execution_count": 20,
   "id": "6af52b86-d611-4a30-bf12-65b98c2b50f3",
   "metadata": {},
   "outputs": [
    {
     "name": "stdout",
     "output_type": "stream",
     "text": [
      "FieldInterviewID             0\n",
      "NOPD_Item                    0\n",
      "EventDate                    0\n",
      "District                     0\n",
      "Zone                         0\n",
      "OfficerAssignment            0\n",
      "StopDescription              0\n",
      "ActionsTaken               126\n",
      "VehicleYear               8004\n",
      "VehicleMake               7793\n",
      "VehicleModel              8176\n",
      "VehicleStyle              7929\n",
      "VehicleColor              7838\n",
      "SubjectID                  126\n",
      "SubjectRace                126\n",
      "SubjectGender              183\n",
      "SubjectAge               16500\n",
      "SubjectHasPhotoID            0\n",
      "SubjectHeight             1215\n",
      "SubjectWeight             1188\n",
      "SubjectEyeColor           1116\n",
      "SubjectHairColor          1801\n",
      "SubjectDriverLicState     7714\n",
      "CreatedDateTime              0\n",
      "LastModifiedDateTime     10722\n",
      "Longitude                    0\n",
      "Latitude                     0\n",
      "Zip                       1600\n",
      "BlockAddress              1270\n",
      "dtype: int64\n"
     ]
    }
   ],
   "source": [
    "print(interview_data.isna().sum())"
   ]
  },
  {
   "cell_type": "markdown",
   "id": "79418446-ea3b-40de-b990-946d243207a7",
   "metadata": {},
   "source": [
    "Since the data was imported from a .csv file, all data types are either categorical objects, integers, or floating point integers. For use in analysis, all attributes of dates will be converted to [python DateTime64 objects](https://pandas.pydata.org/pandas-docs/version/0.23.0/timeseries.html), and the index of the table will be labeled."
   ]
  },
  {
   "cell_type": "code",
   "execution_count": 22,
   "id": "69f65193-f832-4ac9-b0fe-b603a05e14d2",
   "metadata": {},
   "outputs": [
    {
     "data": {
      "text/plain": [
       "FieldInterviewID           int64\n",
       "NOPD_Item                 object\n",
       "EventDate                 object\n",
       "District                   int64\n",
       "Zone                      object\n",
       "OfficerAssignment         object\n",
       "StopDescription           object\n",
       "ActionsTaken              object\n",
       "VehicleYear              float64\n",
       "VehicleMake               object\n",
       "VehicleModel              object\n",
       "VehicleStyle              object\n",
       "VehicleColor              object\n",
       "SubjectID                float64\n",
       "SubjectRace               object\n",
       "SubjectGender             object\n",
       "SubjectAge               float64\n",
       "SubjectHasPhotoID         object\n",
       "SubjectHeight            float64\n",
       "SubjectWeight            float64\n",
       "SubjectEyeColor           object\n",
       "SubjectHairColor          object\n",
       "SubjectDriverLicState     object\n",
       "CreatedDateTime           object\n",
       "LastModifiedDateTime      object\n",
       "Longitude                float64\n",
       "Latitude                 float64\n",
       "Zip                      float64\n",
       "BlockAddress              object\n",
       "dtype: object"
      ]
     },
     "execution_count": 22,
     "metadata": {},
     "output_type": "execute_result"
    }
   ],
   "source": [
    "interview_data.dtypes"
   ]
  },
  {
   "cell_type": "code",
   "execution_count": 26,
   "id": "c6f1aeea-c1a3-40bc-9c71-8cc4005ce222",
   "metadata": {},
   "outputs": [],
   "source": [
    "interview_data[\"EventDate\"] = pd.to_datetime(interview_data[\"EventDate\"])\n",
    "interview_data[\"CreatedDateTime\"] = pd.to_datetime(interview_data[\"CreatedDateTime\"])\n",
    "interview_data[\"LastModifiedDateTime\"] = pd.to_datetime(interview_data[\"LastModifiedDateTime\"])"
   ]
  },
  {
   "cell_type": "code",
   "execution_count": 27,
   "id": "e07143dd-3ecb-4e9c-8b31-cae04d979b69",
   "metadata": {},
   "outputs": [
    {
     "data": {
      "text/plain": [
       "FieldInterviewID                  int64\n",
       "NOPD_Item                        object\n",
       "EventDate                datetime64[ns]\n",
       "District                          int64\n",
       "Zone                             object\n",
       "OfficerAssignment                object\n",
       "StopDescription                  object\n",
       "ActionsTaken                     object\n",
       "VehicleYear                     float64\n",
       "VehicleMake                      object\n",
       "VehicleModel                     object\n",
       "VehicleStyle                     object\n",
       "VehicleColor                     object\n",
       "SubjectID                       float64\n",
       "SubjectRace                      object\n",
       "SubjectGender                    object\n",
       "SubjectAge                      float64\n",
       "SubjectHasPhotoID                object\n",
       "SubjectHeight                   float64\n",
       "SubjectWeight                   float64\n",
       "SubjectEyeColor                  object\n",
       "SubjectHairColor                 object\n",
       "SubjectDriverLicState            object\n",
       "CreatedDateTime          datetime64[ns]\n",
       "LastModifiedDateTime     datetime64[ns]\n",
       "Longitude                       float64\n",
       "Latitude                        float64\n",
       "Zip                             float64\n",
       "BlockAddress                     object\n",
       "dtype: object"
      ]
     },
     "execution_count": 27,
     "metadata": {},
     "output_type": "execute_result"
    }
   ],
   "source": [
    "interview_data.dtypes"
   ]
  },
  {
   "cell_type": "markdown",
   "id": "c216b5a5-1de0-42f6-bd8d-a9676052118c",
   "metadata": {},
   "source": [
    "## Exploratory Data Analysis"
   ]
  },
  {
   "cell_type": "code",
   "execution_count": null,
   "id": "5de0cf55-82e3-49e1-8120-3e72c1468b47",
   "metadata": {},
   "outputs": [],
   "source": []
  }
 ],
 "metadata": {
  "kernelspec": {
   "display_name": "Python 3 (ipykernel)",
   "language": "python",
   "name": "python3"
  },
  "language_info": {
   "codemirror_mode": {
    "name": "ipython",
    "version": 3
   },
   "file_extension": ".py",
   "mimetype": "text/x-python",
   "name": "python",
   "nbconvert_exporter": "python",
   "pygments_lexer": "ipython3",
   "version": "3.8.13"
  }
 },
 "nbformat": 4,
 "nbformat_minor": 5
}
