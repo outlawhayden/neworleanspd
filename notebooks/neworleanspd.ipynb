{
 "cells": [
  {
   "cell_type": "markdown",
   "id": "4b3dcdff-ef42-4bf4-9729-a87f7273aca5",
   "metadata": {
    "jp-MarkdownHeadingCollapsed": true,
    "tags": []
   },
   "source": [
    "## Importing Libraries"
   ]
  },
  {
   "cell_type": "code",
   "execution_count": 2,
   "id": "47ba2db6-229a-468b-94a1-f4dd9707ecb7",
   "metadata": {},
   "outputs": [],
   "source": [
    "import pandas as pd\n",
    "import sklearn as sk\n",
    "import matplotlib as mpl\n",
    "import matplotlib.pyplot as plt\n",
    "import seaborn as sns\n",
    "import os"
   ]
  },
  {
   "cell_type": "markdown",
   "id": "95381679-b097-42d4-ad3f-b7a7662ad10f",
   "metadata": {
    "jp-MarkdownHeadingCollapsed": true,
    "tags": []
   },
   "source": [
    "## Reading in Data\n",
    "-------\n",
    "The data used was published by the City of New Orleans at [data.nola.gov](https://datadriven.nola.gov/home/), which aims to promote accountability and data-driven development of the New Orleans area. There are four main files used to examine the actions and effects of the NOPD over the 2022 calendar year:\n",
    "\n",
    "### Calls for Service: \n",
    "This dataset reflects incidents that have been reported to the New Orleans Police Department in 2022. Data is provided by Orleans Parish Communication District (OPCD), the administrative office of 9-1-1 for the City of New Orleans.\n",
    "\n",
    "- `NOPD_Item` - The NOPD unique item number for the incident\n",
    "- `Type_` - The NOPD Type associated with the call for service\n",
    "- `TypeText` - The NOPD TypeText associated with the call for service\n",
    "- `Priority` - The NOPD Priority associated with the call for service. Code 3 is considered the highest priority and is reserved for officer needs assistance. Code 2 are considered \"emergency\" calls for service. Code 1 are considered \"non-emergency\" calls for service. Code 0 calls do not require a police presence. Priorities are differentiated further using the letter designation with \"A\" being the highest priority within that level.\n",
    "- `InitialType` - The NOPD InitialType associated with the call for service\n",
    "- `InitialTypeText` - The NOPD InitialTypeText associated with the call for service\n",
    "- `InitialPriority` - The NOPD InitialPriority associated with the call for service. See `Priority` description for more information\n",
    "- `MapX` - The NOPD MapX associated with the call for service. This is provided in state plane and obscured to protect the sensitivity of the data\n",
    "- `MapY` - The NOPD MapY associated with the call for service. This is provided in state plane and obscured to protect the sensitivity of the data\n",
    "- `TimeCreate` - The NOPD TimeCreate associated with the call for service. This is the time stamp of th ecreate time of the incident in the CAD system\n",
    "- `TimeDispatch` - The NOPD TimeDispatch associated with the call for service. This is the entered time by OPCD or NOPD when an officer was dispatched\n",
    "- `TimeArrive` - The NOPD TimeArrive associated with the call for service. This is the entered time by OPCD or NOPD when an officer arrived\n",
    "- `TimeClosed` - The NOPD TimeCLosed associated with the call for service. This is the time stamp of the time the call was closed in the CAD system\n",
    "- `Disposition` - The NOPD Disposition associated with the call for service\n",
    "- `DispositionText` - The NOPD DispositionText associated with the call for service\n",
    "- `SelfInitiated` - The NOPD SelfInitiated associated with the call for service. A call is considered self-initiated if the Officer generates the item in the field as opposed to responding to a 911 call\n",
    "- `Beat` - The NOPD Beat associated with the call for service. This is the area within Orleans Parish that the call for service occurred. The first number is the NOPD District, the letter is the zone, and the numbers are the subzone\n",
    "- `Block` - The BLOCK unique address number for the incident. The block address has been obscured to protect the sensitivity of the data\n",
    "- `Zip` - The NOPD Zip associated with the call for service\n",
    "- `PoliceDistrict` - The NOPD PoliceDistrict associated with the call for service\n",
    "- `Location` - The NOPD Location associated with the call for service. The X,Y coordinates for the call for service obscured to protect the sensitivity of the data"
   ]
  },
  {
   "cell_type": "code",
   "execution_count": 5,
   "id": "6183fffe-9702-454a-a1e3-622d2f0a2e6d",
   "metadata": {},
   "outputs": [],
   "source": [
    "service_calls = pd.read_csv('../data/Calls_for_Service_2022.csv')\n",
    "electronic_report = pd.read_csv('../data/Electronic_Police_Report_2022.csv')\n",
    "misconduct_complaints = pd.read_csv('../data/NOPD_Misconduct_Complaints.csv')\n",
    "use_of_force = pd.read_csv('../data/NOPD_Use_of_Force_Incidents.csv')"
   ]
  },
  {
   "cell_type": "code",
   "execution_count": null,
   "id": "5cf6503a-5098-44f5-9e80-9d18045e502c",
   "metadata": {},
   "outputs": [],
   "source": []
  }
 ],
 "metadata": {
  "kernelspec": {
   "display_name": "Python 3 (ipykernel)",
   "language": "python",
   "name": "python3"
  },
  "language_info": {
   "codemirror_mode": {
    "name": "ipython",
    "version": 3
   },
   "file_extension": ".py",
   "mimetype": "text/x-python",
   "name": "python",
   "nbconvert_exporter": "python",
   "pygments_lexer": "ipython3",
   "version": "3.8.13"
  }
 },
 "nbformat": 4,
 "nbformat_minor": 5
}
