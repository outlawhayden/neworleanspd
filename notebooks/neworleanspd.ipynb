{
 "cells": [
  {
   "cell_type": "markdown",
   "id": "4b3dcdff-ef42-4bf4-9729-a87f7273aca5",
   "metadata": {
    "jp-MarkdownHeadingCollapsed": true,
    "tags": []
   },
   "source": [
    "## Importing Libraries"
   ]
  },
  {
   "cell_type": "code",
   "execution_count": 2,
   "id": "47ba2db6-229a-468b-94a1-f4dd9707ecb7",
   "metadata": {},
   "outputs": [],
   "source": [
    "import pandas as pd\n",
    "import sklearn as sk\n",
    "import matplotlib as mpl\n",
    "import matplotlib.pyplot as plt\n",
    "import seaborn as sns\n",
    "import os"
   ]
  },
  {
   "cell_type": "markdown",
   "id": "95381679-b097-42d4-ad3f-b7a7662ad10f",
   "metadata": {
    "jp-MarkdownHeadingCollapsed": true,
    "tags": []
   },
   "source": [
    "## Reading in Data"
   ]
  },
  {
   "cell_type": "code",
   "execution_count": 5,
   "id": "6183fffe-9702-454a-a1e3-622d2f0a2e6d",
   "metadata": {},
   "outputs": [],
   "source": [
    "service_calls = pd.read_csv('../data/Calls_for_Service_2022.csv')\n",
    "electronic_report = pd.read_csv('../data/Electronic_Police_Report_2022.csv')\n",
    "misconduct_complaints = pd.read_csv('../data/NOPD_Misconduct_Complaints.csv')\n",
    "use_of_force = pd.read_csv('../data/NOPD_Use_of_Force_Incidents.csv')"
   ]
  },
  {
   "cell_type": "code",
   "execution_count": null,
   "id": "5cf6503a-5098-44f5-9e80-9d18045e502c",
   "metadata": {},
   "outputs": [],
   "source": []
  }
 ],
 "metadata": {
  "kernelspec": {
   "display_name": "Python 3 (ipykernel)",
   "language": "python",
   "name": "python3"
  },
  "language_info": {
   "codemirror_mode": {
    "name": "ipython",
    "version": 3
   },
   "file_extension": ".py",
   "mimetype": "text/x-python",
   "name": "python",
   "nbconvert_exporter": "python",
   "pygments_lexer": "ipython3",
   "version": "3.8.13"
  }
 },
 "nbformat": 4,
 "nbformat_minor": 5
}
